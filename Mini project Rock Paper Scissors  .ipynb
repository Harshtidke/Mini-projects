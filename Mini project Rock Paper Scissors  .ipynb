{
 "cells": [
  {
   "cell_type": "code",
   "execution_count": null,
   "id": "1cfbe879",
   "metadata": {},
   "outputs": [],
   "source": [
    "import random\n",
    "\n",
    "def play_game():\n",
    "    user_wins = 0\n",
    "    computer_wins = 0\n",
    "    moves = []\n",
    "    options = [\"rock\", \"paper\", \"scissors\"]\n",
    "\n",
    "    while True:\n",
    "        user_input = input(\"Type Rock/Paper/Scissors or Q to quit: \").lower()\n",
    "        if user_input == \"q\":\n",
    "            break\n",
    "\n",
    "        if user_input not in options:\n",
    "            print(\"Invalid input. Please try again.\")\n",
    "            continue\n",
    "\n",
    "        random_number = random.randint(0, 2)\n",
    "        # rock: 0, paper: 1, scissors: 2\n",
    "        computer_pick = options[random_number]\n",
    "        print(\"Computer picked\", computer_pick + \".\")\n",
    "\n",
    "        if user_input == \"rock\" and computer_pick == \"scissors\":\n",
    "            print(\"You won!\")\n",
    "            user_wins += 1\n",
    "            moves.append((user_input, computer_pick))\n",
    "\n",
    "        elif user_input == \"paper\" and computer_pick == \"rock\":\n",
    "            print(\"You won!\")\n",
    "            user_wins += 1\n",
    "            moves.append((user_input, computer_pick))\n",
    "\n",
    "        elif user_input == \"scissors\" and computer_pick == \"paper\":\n",
    "            print(\"You won!\")\n",
    "            user_wins += 1\n",
    "            moves.append((user_input, computer_pick))\n",
    "\n",
    "        else:\n",
    "            print(\"You lost!\")\n",
    "            computer_wins += 1\n",
    "            moves.append((user_input, computer_pick))\n",
    "\n",
    "    print(\"You won\", user_wins, \"times.\")\n",
    "    print(\"The computer won\", computer_wins, \"times.\")\n",
    "    print(\"Here are the moves made in the game:\")\n",
    "    for move in moves:\n",
    "        print(move[0], \"vs\", move[1])\n",
    "    print(\"Goodbye!\")\n",
    "\n",
    "if __name__ == '__main__':\n",
    "    try:\n",
    "        play_game()\n",
    "    except Exception as e:\n",
    "        print(\"An error occurred:\", e)"
   ]
  }
 ],
 "metadata": {
  "kernelspec": {
   "display_name": "Python 3 (ipykernel)",
   "language": "python",
   "name": "python3"
  },
  "language_info": {
   "codemirror_mode": {
    "name": "ipython",
    "version": 3
   },
   "file_extension": ".py",
   "mimetype": "text/x-python",
   "name": "python",
   "nbconvert_exporter": "python",
   "pygments_lexer": "ipython3",
   "version": "3.9.13"
  }
 },
 "nbformat": 4,
 "nbformat_minor": 5
}
